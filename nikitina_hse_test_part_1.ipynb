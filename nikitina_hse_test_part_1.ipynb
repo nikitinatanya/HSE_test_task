{
 "cells": [
  {
   "cell_type": "markdown",
   "id": "4ca25443-8446-4b59-bf03-72974ecf7418",
   "metadata": {},
   "source": [
    "# Тестовое задание НИУ ВШЭ"
   ]
  },
  {
   "cell_type": "markdown",
   "id": "e0579a7f-3f9f-4963-9121-1fab7ba3e840",
   "metadata": {},
   "source": [
    "## Часть 1. Работа с данными  \n",
    "Входные данные для тестового задания можно найти здесь (или здесь, резервная ссылка).  \n",
    "Ваша задача - подготовить и обработать исходные данных так, чтобы их можно было использовать во второй части задания.  \n",
    "\n",
    "Требования к выходным данным:  \n",
    "\n",
    "    1) В выходной таблице должны остаться только следующие колонки:  \n",
    "area, cluster, cluster_name, keyword, x, y, count, color, где  \n",
    "●\t area - область,  \n",
    "●\t cluster - номер кластера,  \n",
    "●\t cluster_name - название кластера,  \n",
    "●\t keyword - словосочетание,  \n",
    "●\t count - показатель,  \n",
    "●\t x и y - координаты для диаграммы рассеяния,  \n",
    "●\t color - цвет точки на карте для данного словосочетания  \n",
    "\n",
    "    2) Колонку color нужно добавить самостоятельно - цвета вы можете взять из цветовых палеток Tableu или по своему усмотрению.  \n",
    "    3) Цвет задается каждому словосочетанию согласно следующими правилам:  \n",
    "●\tвнутри одной области цвета словосочетаний в одном кластере должны быть одинаковые, в разных - отличаться (например, у \"Кластер 1\" все слова будут окрашены в красный, у \"Кластер 2\" - в зеленый и т.д.)  \n",
    "●\tцвета кластеров в разных областях могут повторяться  \n",
    "●\tцвета кластеров в разных областях с разным номером не имеют никакой связи (у одной области [area] слова из \"Кластер 1\" могут быть красного цвета, в другой области у слов из \"Кластер 1\" может быть другой цвет)  \n",
    "\n",
    "    4) Не должно быть дубликатов слов в одной и той же области (area), но словосочетание может повторяться из area в area  \n",
    "    5) Колонки должны называться именно так, как указано в п.1  \n",
    "    6) Сортировка должна происходить по колонкам area, cluster, cluster_name, count (по count значения сортируются в убывающем порядке, в остальных - по возрастающему).  \n",
    "    7) Количество переданных в исходных ключевых слов должно совпадать с количество слов в выходных данных (за исключением дублированных строк или строк с пустыми\\неформатными значениями по ключевым показателям [перечислены в п. 1], если такие имеются).  \n",
    "    8) Никакие другие особенности оформления не должны учитываться при обработке данных (заливка и пр.)  \n",
    "    9) Выходные данные должны быть аккуратно оформлены (заголовки закреплены, включен фильтр)  \n",
    "\n",
    "Формат представления выходных данных: **google spreadsheet-таблица**.  \n",
    "\n",
    "Выполнение данной работы желательно с помощью одной из библиотек:  \n",
    "●\tdata.table ( R )  \n",
    "●\tpandas  (Python)  \n"
   ]
  },
  {
   "cell_type": "code",
   "execution_count": 1,
   "id": "3150f467-d21f-4847-9d64-8dae543fb3d2",
   "metadata": {},
   "outputs": [],
   "source": [
    "import pandas as pd\n",
    "import numpy as np"
   ]
  },
  {
   "cell_type": "code",
   "execution_count": 2,
   "id": "eb51c0ec-b5bf-419e-a78f-9b7ddac58b81",
   "metadata": {},
   "outputs": [],
   "source": [
    "def get_cluster_color(row):\n",
    "    '''\n",
    "    Функция присвоения цвета кластеру\n",
    "    '''\n",
    "    cluster = row['cluster']\n",
    "    \n",
    "    values_set = [0, 1, 2, 3]\n",
    "    returned_values = ['#1f77b4', '#ff7f0e', '#2ca02c', '#d62728']\n",
    "    \n",
    "    for i in range(len(values_set)):\n",
    "        \n",
    "        if cluster == values_set[i]:\n",
    "            return returned_values[i]\n",
    "    "
   ]
  },
  {
   "cell_type": "code",
   "execution_count": 3,
   "id": "04e09b4a-c628-4818-877c-8e56e27056f6",
   "metadata": {},
   "outputs": [],
   "source": [
    "tz_data = pd.read_csv('tz_data.csv')"
   ]
  },
  {
   "cell_type": "markdown",
   "id": "d67cad9d-fe39-4855-8504-7bca6584f405",
   "metadata": {},
   "source": [
    "### Ознакомление с данными"
   ]
  },
  {
   "cell_type": "code",
   "execution_count": 4,
   "id": "5ae598dc-53a6-4641-af80-850b2f6a7dac",
   "metadata": {},
   "outputs": [
    {
     "name": "stdout",
     "output_type": "stream",
     "text": [
      "\n",
      "\u001b[34mВыборка строк из tz_data\u001b[0;0m\n"
     ]
    },
    {
     "data": {
      "text/html": [
       "<div>\n",
       "<style scoped>\n",
       "    .dataframe tbody tr th:only-of-type {\n",
       "        vertical-align: middle;\n",
       "    }\n",
       "\n",
       "    .dataframe tbody tr th {\n",
       "        vertical-align: top;\n",
       "    }\n",
       "\n",
       "    .dataframe thead th {\n",
       "        text-align: right;\n",
       "    }\n",
       "</style>\n",
       "<table border=\"1\" class=\"dataframe\">\n",
       "  <thead>\n",
       "    <tr style=\"text-align: right;\">\n",
       "      <th></th>\n",
       "      <th>area</th>\n",
       "      <th>cluster</th>\n",
       "      <th>cluster_name</th>\n",
       "      <th>keyword</th>\n",
       "      <th>good (1)</th>\n",
       "      <th>count</th>\n",
       "      <th>x</th>\n",
       "      <th>y</th>\n",
       "    </tr>\n",
       "  </thead>\n",
       "  <tbody>\n",
       "    <tr>\n",
       "      <th>214</th>\n",
       "      <td>greetings</td>\n",
       "      <td>0.0</td>\n",
       "      <td>Кластер 0</td>\n",
       "      <td>publicity mongolia</td>\n",
       "      <td>1.0</td>\n",
       "      <td>68</td>\n",
       "      <td>6.737206</td>\n",
       "      <td>10.32607989591264</td>\n",
       "    </tr>\n",
       "    <tr>\n",
       "      <th>172</th>\n",
       "      <td>housewives</td>\n",
       "      <td>1.0</td>\n",
       "      <td>Кластер 1</td>\n",
       "      <td>perfectly department composer</td>\n",
       "      <td>1.0</td>\n",
       "      <td>86</td>\n",
       "      <td>12.190364</td>\n",
       "      <td>6.814392436798818</td>\n",
       "    </tr>\n",
       "    <tr>\n",
       "      <th>20</th>\n",
       "      <td>capability</td>\n",
       "      <td>1.0</td>\n",
       "      <td>Кластер 1</td>\n",
       "      <td>interfaces neutral</td>\n",
       "      <td>1.0</td>\n",
       "      <td>1047</td>\n",
       "      <td>0.134107</td>\n",
       "      <td>12.515576283697598</td>\n",
       "    </tr>\n",
       "    <tr>\n",
       "      <th>114</th>\n",
       "      <td>ar\\vr</td>\n",
       "      <td>2.0</td>\n",
       "      <td>Кластер 2</td>\n",
       "      <td>bangkok mining fascinating</td>\n",
       "      <td>1.0</td>\n",
       "      <td>682</td>\n",
       "      <td>5.084247</td>\n",
       "      <td>13.480030560991166</td>\n",
       "    </tr>\n",
       "    <tr>\n",
       "      <th>66</th>\n",
       "      <td>winner</td>\n",
       "      <td>1.0</td>\n",
       "      <td>Кластер 1</td>\n",
       "      <td>retirement privilege pathology sydney</td>\n",
       "      <td>1.0</td>\n",
       "      <td>1384</td>\n",
       "      <td>8.198546</td>\n",
       "      <td>6.322510495538448</td>\n",
       "    </tr>\n",
       "    <tr>\n",
       "      <th>23</th>\n",
       "      <td>capability</td>\n",
       "      <td>1.0</td>\n",
       "      <td>Кластер 1</td>\n",
       "      <td>filter substances</td>\n",
       "      <td>1.0</td>\n",
       "      <td>1532</td>\n",
       "      <td>2.432794</td>\n",
       "      <td>4.840058228742469</td>\n",
       "    </tr>\n",
       "    <tr>\n",
       "      <th>127</th>\n",
       "      <td>twisted</td>\n",
       "      <td>1.0</td>\n",
       "      <td>Кластер 1</td>\n",
       "      <td>toronto crisis chamber ceiling</td>\n",
       "      <td>1.0</td>\n",
       "      <td>535</td>\n",
       "      <td>1.229081</td>\n",
       "      <td>11.346440509834324</td>\n",
       "    </tr>\n",
       "    <tr>\n",
       "      <th>93</th>\n",
       "      <td>worlds</td>\n",
       "      <td>0.0</td>\n",
       "      <td>Кластер 0</td>\n",
       "      <td>island holland electric</td>\n",
       "      <td>1.0</td>\n",
       "      <td>1335</td>\n",
       "      <td>9.223316</td>\n",
       "      <td>14.683999423537758</td>\n",
       "    </tr>\n",
       "    <tr>\n",
       "      <th>77</th>\n",
       "      <td>locator</td>\n",
       "      <td>0.0</td>\n",
       "      <td>Кластер 0</td>\n",
       "      <td>insights downloaded</td>\n",
       "      <td>1.0</td>\n",
       "      <td>1831</td>\n",
       "      <td>9.894806</td>\n",
       "      <td>9.572447429953115</td>\n",
       "    </tr>\n",
       "    <tr>\n",
       "      <th>53</th>\n",
       "      <td>protein</td>\n",
       "      <td>1.0</td>\n",
       "      <td>Кластер 1</td>\n",
       "      <td>several animated buried</td>\n",
       "      <td>1.0</td>\n",
       "      <td>1705</td>\n",
       "      <td>1.660753</td>\n",
       "      <td>3.3058212058020153</td>\n",
       "    </tr>\n",
       "  </tbody>\n",
       "</table>\n",
       "</div>"
      ],
      "text/plain": [
       "           area  cluster cluster_name                                keyword  \\\n",
       "214   greetings      0.0    Кластер 0                     publicity mongolia   \n",
       "172  housewives      1.0    Кластер 1          perfectly department composer   \n",
       "20   capability      1.0    Кластер 1                     interfaces neutral   \n",
       "114       ar\\vr      2.0    Кластер 2             bangkok mining fascinating   \n",
       "66       winner      1.0    Кластер 1  retirement privilege pathology sydney   \n",
       "23   capability      1.0    Кластер 1                      filter substances   \n",
       "127     twisted      1.0    Кластер 1         toronto crisis chamber ceiling   \n",
       "93       worlds      0.0    Кластер 0                island holland electric   \n",
       "77      locator      0.0    Кластер 0                    insights downloaded   \n",
       "53      protein      1.0    Кластер 1                several animated buried   \n",
       "\n",
       "     good (1) count          x                   y  \n",
       "214       1.0    68   6.737206   10.32607989591264  \n",
       "172       1.0    86  12.190364   6.814392436798818  \n",
       "20        1.0  1047   0.134107  12.515576283697598  \n",
       "114       1.0   682   5.084247  13.480030560991166  \n",
       "66        1.0  1384   8.198546   6.322510495538448  \n",
       "23        1.0  1532   2.432794   4.840058228742469  \n",
       "127       1.0   535   1.229081  11.346440509834324  \n",
       "93        1.0  1335   9.223316  14.683999423537758  \n",
       "77        1.0  1831   9.894806   9.572447429953115  \n",
       "53        1.0  1705   1.660753  3.3058212058020153  "
      ]
     },
     "metadata": {},
     "output_type": "display_data"
    },
    {
     "name": "stdout",
     "output_type": "stream",
     "text": [
      "\n",
      "\u001b[34mОбщая информация\u001b[0;0m\n",
      "<class 'pandas.core.frame.DataFrame'>\n",
      "RangeIndex: 229 entries, 0 to 228\n",
      "Data columns (total 8 columns):\n",
      " #   Column        Non-Null Count  Dtype  \n",
      "---  ------        --------------  -----  \n",
      " 0   area          228 non-null    object \n",
      " 1   cluster       228 non-null    float64\n",
      " 2   cluster_name  228 non-null    object \n",
      " 3   keyword       228 non-null    object \n",
      " 4   good (1)      227 non-null    float64\n",
      " 5   count         227 non-null    object \n",
      " 6   x             228 non-null    float64\n",
      " 7   y             228 non-null    object \n",
      "dtypes: float64(3), object(5)\n",
      "memory usage: 14.4+ KB\n"
     ]
    },
    {
     "data": {
      "text/plain": [
       "None"
      ]
     },
     "metadata": {},
     "output_type": "display_data"
    },
    {
     "name": "stdout",
     "output_type": "stream",
     "text": [
      "\n",
      "\u001b[34mДубликаты\u001b[0;0m\n"
     ]
    },
    {
     "data": {
      "text/plain": [
       "0"
      ]
     },
     "metadata": {},
     "output_type": "display_data"
    },
    {
     "name": "stdout",
     "output_type": "stream",
     "text": [
      "\n",
      "\u001b[34mПропуски\u001b[0;0m\n"
     ]
    },
    {
     "data": {
      "text/plain": [
       "area            1\n",
       "cluster         1\n",
       "cluster_name    1\n",
       "keyword         1\n",
       "good (1)        2\n",
       "count           2\n",
       "x               1\n",
       "y               1\n",
       "dtype: int64"
      ]
     },
     "metadata": {},
     "output_type": "display_data"
    }
   ],
   "source": [
    "print()\n",
    "print('\\033[34m' + 'Выборка строк из tz_data' + '\\033[0;0m')\n",
    "display(tz_data.sample(n = 10, random_state = 2))\n",
    "print()\n",
    "print('\\033[34m' + 'Общая информация' + '\\033[0;0m')\n",
    "display(tz_data.info())\n",
    "print()\n",
    "print('\\033[34m' + 'Дубликаты' + '\\033[0;0m')\n",
    "display(tz_data.duplicated().sum())\n",
    "print()\n",
    "print('\\033[34m' + 'Пропуски' + '\\033[0;0m')\n",
    "display(tz_data.isna().sum())"
   ]
  },
  {
   "cell_type": "markdown",
   "id": "a03ce496-ab1f-4f0a-ac95-caddeb703846",
   "metadata": {},
   "source": [
    "В датафрейме содержится незначительное количество пропущенных значений."
   ]
  },
  {
   "cell_type": "markdown",
   "id": "5b5fe88a-91e5-4314-9939-8687121a1903",
   "metadata": {},
   "source": [
    "### Уникальные значения"
   ]
  },
  {
   "cell_type": "markdown",
   "id": "efad99c9-defb-4853-945c-3b2fe97da4fe",
   "metadata": {},
   "source": [
    "Посмотрим уникальные значения в каждом из столбцов."
   ]
  },
  {
   "cell_type": "code",
   "execution_count": 5,
   "id": "44a5a435-6d6b-41b2-94ba-63a97b4d0f70",
   "metadata": {},
   "outputs": [
    {
     "data": {
      "text/plain": [
       "['area', 'cluster', 'cluster_name', 'keyword', 'good (1)', 'x', 'y', 'count']"
      ]
     },
     "execution_count": 5,
     "metadata": {},
     "output_type": "execute_result"
    }
   ],
   "source": [
    "tz_column_list = ['area', 'cluster', 'cluster_name', 'keyword', 'good (1)', 'x', 'y', 'count']\n",
    "tz_column_list"
   ]
  },
  {
   "cell_type": "code",
   "execution_count": 6,
   "id": "2d2bbe40-c21d-4bc8-9246-bcb90d03b3f4",
   "metadata": {},
   "outputs": [
    {
     "name": "stdout",
     "output_type": "stream",
     "text": [
      "\u001b[1marea \n",
      "\u001b[0;0m\n"
     ]
    },
    {
     "data": {
      "text/plain": [
       "array(['ar\\\\vr', 'available', 'capability', 'dialog', 'eligibility',\n",
       "       'except', 'greetings', 'housewives', 'lithuania', 'locator',\n",
       "       'personnel', 'protein', 'twisted', 'winner', 'worlds', nan],\n",
       "      dtype=object)"
      ]
     },
     "metadata": {},
     "output_type": "display_data"
    },
    {
     "name": "stdout",
     "output_type": "stream",
     "text": [
      "Количество уникальных значений: 15\n",
      "--------------------------------------------------------------------------------\n",
      "\n",
      "\u001b[1mcluster \n",
      "\u001b[0;0m\n"
     ]
    },
    {
     "data": {
      "text/plain": [
       "array([ 0.,  1.,  2.,  3., nan])"
      ]
     },
     "metadata": {},
     "output_type": "display_data"
    },
    {
     "name": "stdout",
     "output_type": "stream",
     "text": [
      "Количество уникальных значений: 4\n",
      "--------------------------------------------------------------------------------\n",
      "\n",
      "\u001b[1mcluster_name \n",
      "\u001b[0;0m\n"
     ]
    },
    {
     "data": {
      "text/plain": [
       "array(['Кластер 0', 'Кластер 1', 'Кластер 2', 'Кластер 3', nan],\n",
       "      dtype=object)"
      ]
     },
     "metadata": {},
     "output_type": "display_data"
    },
    {
     "name": "stdout",
     "output_type": "stream",
     "text": [
      "Количество уникальных значений: 4\n",
      "--------------------------------------------------------------------------------\n",
      "\n",
      "\u001b[1mkeyword \n",
      "\u001b[0;0m\n"
     ]
    },
    {
     "data": {
      "text/plain": [
       "array(['access michelle', 'alternative homeless',\n",
       "       'amended mailed analyzed', 'announces independent',\n",
       "       'announces independent coaching',\n",
       "       'announces independent coaching travelers',\n",
       "       'announces independent latter senator', 'annoying dramatic',\n",
       "       'anymore undefined partially',\n",
       "       'applicants vacuum distance restrictions',\n",
       "       'applicants vacuum trusts famous', 'approach publicly disturbed',\n",
       "       'approximately defense', 'auction causes', 'auditor transparent',\n",
       "       'bangkok mining fascinating', 'barrier ethernet',\n",
       "       'batteries nipples', 'battery pregnant',\n",
       "       'bestsellers enterprise promotional', 'bouquet beyond indian',\n",
       "       'caution target', 'celtic automation',\n",
       "       'celtic automation patients sectors', 'churches charming',\n",
       "       'cincinnati fundamentals', 'coalition integration',\n",
       "       'coalition integration compute', 'coalition integration fantasy',\n",
       "       'collectables departments', 'comfort rivers',\n",
       "       'committees parallel', 'complaints excited', 'consider making',\n",
       "       'containers raises', 'copyright crossword',\n",
       "       'correctly washing trauma', 'courtesy textiles diameter',\n",
       "       'covered harvest rights', 'cowboy arthritis',\n",
       "       'creativity bloggers', 'cumshot identifies', 'cycles hungary',\n",
       "       'cycling adaptive', 'decision surgeons montreal',\n",
       "       'discover mining', 'disposition layout', 'diversity unlike',\n",
       "       'dynamics directly', 'education evidence', 'effectiveness baskets',\n",
       "       'engage gazette', 'enquiries implementation',\n",
       "       'enquiries implementation duplicate', 'entire ethical speakers',\n",
       "       'exchanges castle', 'exports closing supported',\n",
       "       'falling dialogue', 'filling volunteers academics',\n",
       "       'filter collect', 'filter substances', 'finished assigned',\n",
       "       'finishing vanilla', 'florida reserved', 'formation interests',\n",
       "       'gratuit alabama', 'greater variety', 'guestbook configure',\n",
       "       'harmful cultures', 'hawaiian directive', 'heavily responsible',\n",
       "       'helpful arctic minimal', 'hierarchy geology',\n",
       "       'holdem configuring', 'holdings herbal', 'immunology plates',\n",
       "       'indirect reminder', 'insights downloaded', 'integral unified',\n",
       "       'interfaces neutral', 'interpretation connections',\n",
       "       'ireland discipline', 'island holland electric',\n",
       "       'jacksonville tomatoes alberta', 'justin thailand inspection',\n",
       "       'knives everybody', 'legends directive', 'lighting observe',\n",
       "       'lighting planes greensboro', 'listen hungary', 'listings finally',\n",
       "       'listings finally reservations', 'logging suggested',\n",
       "       'malawi sunset', 'margaret groove', 'massage sufficiently',\n",
       "       'massive informative', 'massive informative musicians',\n",
       "       'masturbation brisbane', 'mentor reduced posters',\n",
       "       'mentor reduced shadow', 'michael tobacco',\n",
       "       'michael tobacco oriented', 'minerals precipitation voyeurweb',\n",
       "       'minerals reception', 'mirrors administration',\n",
       "       'missions introduced', 'mobiles sensor', 'moderate command dublin',\n",
       "       'moderate command signals', 'mortality decide',\n",
       "       'notebook performs', 'notion scenario', 'offers incorrect',\n",
       "       'offers incorrect presented', 'offset cnetcom',\n",
       "       'offset cnetcom applying', 'offset cnetcom applying holdings',\n",
       "       'operating stevens', 'operating stevens nirvana',\n",
       "       'operating stevens nirvana gabriel', 'operating stevens regularly',\n",
       "       'opportunities upgrades', 'optimal artificial orders',\n",
       "       'optimal artificial orders complicated',\n",
       "       'optimal artificial orders concrete', 'outstanding relations',\n",
       "       'overcome delight office', 'packed italia', 'particular titles',\n",
       "       'payday oriental', 'perfectly department composer',\n",
       "       'pichunter olympus', 'pictures instances', 'pieces appeals',\n",
       "       'pokemon meanwhile degree', 'polish removable',\n",
       "       'portuguese bathroom', 'posing constitute beginners recycling',\n",
       "       'postcards looked', 'postcards looked republic detector',\n",
       "       'poster proceeding', 'previously standing languages commands',\n",
       "       'programmer cardiovascular billion', 'publicity mongolia',\n",
       "       'rebate classics', 'receiver astrology', 'recipient traffic',\n",
       "       'recipients phentermine attorneys', 'recording remote',\n",
       "       'recycling edited', 'regarding comprehensive circulation',\n",
       "       'reload athletics', 'reservations linking',\n",
       "       'responsibilities resolve complimentary',\n",
       "       'retirement privilege pathology',\n",
       "       'retirement privilege pathology sydney',\n",
       "       'retirement privilege recovered beijing', 'revealed renaissance',\n",
       "       'ringtone parental', 'ruling prepare', 'russell indonesian',\n",
       "       'sapphire grounds', 'sapphire grounds justice',\n",
       "       'scanners generated', 'several animated',\n",
       "       'several animated buried', 'showed replacing', 'signed reception',\n",
       "       'simulation allocated wellington', 'singles unusual buyers',\n",
       "       'sounds belarus easily', 'spasm filter', 'speaker permission',\n",
       "       'spread presidential', 'springer bumper', 'subscribers member',\n",
       "       'suggestion testimonials', 'supply suspended', 'terrace people',\n",
       "       'thomson veterans', 'toolbar portfolio', 'toronto crisis chamber',\n",
       "       'toronto crisis chamber ceiling', 'transmitted australian',\n",
       "       'tunnel lyrics', 'turner navigate expenditures',\n",
       "       'turtle electronic', 'updating occurred', 'vampire injured',\n",
       "       'waters career', 'watershed accurate', 'worthy integrate collect',\n",
       "       'written conflict fabulous', nan], dtype=object)"
      ]
     },
     "metadata": {},
     "output_type": "display_data"
    },
    {
     "name": "stdout",
     "output_type": "stream",
     "text": [
      "Количество уникальных значений: 194\n",
      "--------------------------------------------------------------------------------\n",
      "\n",
      "\u001b[1mgood (1) \n",
      "\u001b[0;0m\n"
     ]
    },
    {
     "data": {
      "text/plain": [
       "array([ 0.,  1., nan])"
      ]
     },
     "metadata": {},
     "output_type": "display_data"
    },
    {
     "name": "stdout",
     "output_type": "stream",
     "text": [
      "Количество уникальных значений: 2\n",
      "--------------------------------------------------------------------------------\n",
      "\n",
      "\u001b[1mx \n",
      "\u001b[0;0m\n"
     ]
    },
    {
     "data": {
      "text/plain": [
       "array([ 0.03944808,  0.04297734,  0.12779802,  0.1341075 ,  0.16254002,\n",
       "        0.21191806,  0.32546905,  0.38198612,  0.40741498,  0.50949038,\n",
       "        0.55451557,  0.61989225,  0.85460947,  0.86192097,  0.99087089,\n",
       "        1.00323338,  1.02445121,  1.16062641,  1.22886288,  1.22908102,\n",
       "        1.28915849,  1.31380606,  1.42744543,  1.43370632,  1.50690368,\n",
       "        1.66075286,  1.72439697,  1.7294647 ,  1.83198341,  1.96870275,\n",
       "        1.97297822,  2.04558616,  2.08986641,  2.16735462,  2.26056652,\n",
       "        2.40702781,  2.43279387,  2.44564932,  2.48685037,  2.53454067,\n",
       "        2.72160315,  2.84275428,  2.91109226,  2.98026424,  2.99116739,\n",
       "        3.02424998,  3.17226101,  3.2684689 ,  3.28393962,  3.36253945,\n",
       "        3.53944609,  3.54236682,  3.55974641,  3.58071798,  3.58510054,\n",
       "        3.59898344,  3.6214187 ,  3.98650789,  4.02049407,  4.38375979,\n",
       "        4.40935197,  4.47688583,  4.6556543 ,  4.78352212,  4.78651837,\n",
       "        4.81325629,  4.94440074,  4.98867025,  4.99155925,  5.08424715,\n",
       "        5.12728882,  5.13350488,  5.19363224,  5.19825749,  5.24768252,\n",
       "        5.30473772,  5.53990422,  5.59362887,  5.60719183,  5.65511235,\n",
       "        5.71226705,  5.77234171,  5.78894665,  5.87597786,  5.89411414,\n",
       "        5.9879247 ,  5.99801326,  6.01126759,  6.02094431,  6.02994601,\n",
       "        6.05751879,  6.12844261,  6.21087987,  6.30910664,  6.64061924,\n",
       "        6.70398815,  6.73525981,  6.73720574,  6.76079799,  6.79590487,\n",
       "        6.83837067,  6.96186624,  6.97856946,  7.30967235,  7.39928045,\n",
       "        7.41177578,  7.5015186 ,  7.50305596,  7.67426339,  7.98591044,\n",
       "        8.03571988,  8.04242231,  8.08223066,  8.15554972,  8.19854626,\n",
       "        8.61925125,  8.64437418,  8.67974375,  8.70170454,  8.7128215 ,\n",
       "        8.7413516 ,  8.76000209,  8.95987497,  8.96484041,  9.04624196,\n",
       "        9.0710631 ,  9.12106132,  9.12359237,  9.1954443 ,  9.22331562,\n",
       "        9.29111632,  9.51372754,  9.55702673,  9.56087138,  9.68140199,\n",
       "        9.71122941,  9.71569224,  9.894806  ,  9.96455166,  9.98014926,\n",
       "       10.04400776, 10.04683023, 10.15271896, 10.19560242, 10.28369388,\n",
       "       10.3684219 , 10.40133579, 10.44353325, 10.46084757, 10.47447422,\n",
       "       10.59459957, 10.70603205, 10.75761301, 10.83391996, 10.94931248,\n",
       "       10.97121373, 10.98357068, 10.99960987, 11.02884442, 11.0859783 ,\n",
       "       11.13578739, 11.16568814, 11.16608685, 11.17614164, 11.25378318,\n",
       "       11.26212727, 11.35737469, 11.38185583, 11.39948498, 11.41991907,\n",
       "       11.45122227, 11.47702544, 11.53566917, 11.55372405, 11.57659494,\n",
       "       11.58301937, 11.72389491, 11.85090689, 11.9160109 , 11.94999048,\n",
       "       11.9839591 , 12.04926784, 12.19036421, 12.1972752 , 12.23821231,\n",
       "       12.26104173, 12.35359563, 12.42386517, 12.44198394, 12.46778833,\n",
       "       12.46822859, 12.64917453, 12.70707343, 12.95505597, 13.00768005,\n",
       "       13.11590258, 13.15067589, 13.2032863 , 13.27437433, 13.29356549,\n",
       "       13.42777956, 13.5029705 , 13.57705572, 13.6059974 , 13.62701539,\n",
       "       13.69649024, 13.76602043, 13.84393705, 13.88625557, 13.89323219,\n",
       "       13.90211927, 13.96017784, 13.97534018, 14.05956278, 14.09755221,\n",
       "       14.18249575, 14.27775939, 14.37470065, 14.42199703, 14.63364443,\n",
       "       14.66808878, 14.74284818, 14.82927986, 14.91661916, 14.92787939,\n",
       "               nan])"
      ]
     },
     "metadata": {},
     "output_type": "display_data"
    },
    {
     "name": "stdout",
     "output_type": "stream",
     "text": [
      "Количество уникальных значений: 225\n",
      "--------------------------------------------------------------------------------\n",
      "\n",
      "\u001b[1my \n",
      "\u001b[0;0m\n"
     ]
    },
    {
     "data": {
      "text/plain": [
       "array(['0.06080720844153398', '0.09000260155310136',\n",
       "       '0.09267876986654155', '0.1143436516859353', '0.11438091958222096',\n",
       "       '0.15831290259642083', '0.19658438668780087',\n",
       "       '0.30133952678609466', '0.319009363382321', '0.3976214750666285',\n",
       "       '0.44477856435468255', '0.5393038967339214', '0.5533676310113189',\n",
       "       '0.6781829885279139', '0.7269788262356514', '0.7546194789834887',\n",
       "       '0.7791614555083071', '0.9953402239891002', '0x414fe002',\n",
       "       '1.1168487718141744', '1.1517746789802608', '1.2369982302233233',\n",
       "       '1.2492693330331217', '1.38214261242753', '1.469028291808031',\n",
       "       '1.5140297011264148', '1.9393505187643634', '10.076107624172634',\n",
       "       '10.17858008664234', '10.211624146149772', '10.238445249205526',\n",
       "       '10.281612538543575', '10.289412705061812', '10.32607989591264',\n",
       "       '10.341439590784995', '10.481796814453466', '10.48899638751125',\n",
       "       '10.835109297021228', '10.906339823131932', '10.922626188848891',\n",
       "       '10.998897052089552', '11.241094130877395', '11.26136706467054',\n",
       "       '11.320428986302247', '11.331727125187761', '11.346440509834324',\n",
       "       '11.379998058696547', '11.404997962265508', '11.579779793674563',\n",
       "       '11.980078795061226', '12.02454946393265', '12.11758463166844',\n",
       "       '12.259495712252914', '12.305153970991967', '12.33106798195205',\n",
       "       '12.360752945518007', '12.37821665587366', '12.435179372329378',\n",
       "       '12.515576283697598', '12.564796257345005', '12.721263957780877',\n",
       "       '12.725469140530215', '12.742222705504602', '12.864914605903127',\n",
       "       '12.879143957932204', '12.968220386038821', '12.985122559024818',\n",
       "       '13.155189236409358', '13.337536513771608', '13.356246147628058',\n",
       "       '13.480030560991166', '13.574503956024905', '13.718408382949614',\n",
       "       '13.809914970161072', '13.832579399487951', '13.851832450144606',\n",
       "       '14.127058369926104', '14.169126827749437', '14.23044501616914',\n",
       "       '14.331784141672365', '14.374205517890555', '14.432954768634762',\n",
       "       '14.561639955522216', '14.56834807581583', '14.663274183442766',\n",
       "       '14.683999423537758', '14.73962239754386', '14.817618017689076',\n",
       "       '14.838972733370907', '14.868504058930684', '14.923944414158022',\n",
       "       '2.010410642056752', '2.055921147961711', '2.0934471757325124',\n",
       "       '2.2169142392039576', '2.377601610111719', '2.5133519530949426',\n",
       "       '2.5449259552859744', '2.6348307106024977', '2.6815031446239224',\n",
       "       '2.7223305923394103', '2.734983929681749', '2.7382208013485614',\n",
       "       '2.8545670858213916', '2.880182399992842', '2.8818032069512607',\n",
       "       '2.8966111965095824', '2.9597385853299247', '2.9656951192720844',\n",
       "       '3.132854663641618', '3.1553559438669634', '3.1617111286924686',\n",
       "       '3.3058212058020153', '3.4130625495955567', '3.4290455309766577',\n",
       "       '3.4290905532133897', '3.4572979889185995', '3.4710085962741264',\n",
       "       '3.5805593604528685', '3.613982972088637', '3.6158539394325158',\n",
       "       '3.642690500940411', '3.642819729434763', '3.776911527209375',\n",
       "       '3.861840117708865', '3.8981370219558604', '3.9698546387955673',\n",
       "       '4.023582068803805', '4.0716830744657715', '4.151198803764073',\n",
       "       '4.160944057088608', '4.165848723252822', '4.173697528286709',\n",
       "       '4.206470020157055', '4.350468351511949', '4.355278024864925',\n",
       "       '4.363994491947961', '4.39674063521296', '4.446517966063217',\n",
       "       '4.645919398695931', '4.658916849525424', '4.723751417014398',\n",
       "       '4.786921536998376', '4.840058228742469', '4.857810387061303',\n",
       "       '4.886067287286476', '5.090565770201748', '5.095972353236558',\n",
       "       '5.118939260827324', '5.158338677646641', '5.240556442699705',\n",
       "       '5.5006444090606434', '5.6234585253908165', '5.708550735961878',\n",
       "       '5.716253948110923', '5.807535729499952', '5.847621868330291',\n",
       "       '5.853697603739591', '5.880935345193128', '5.930703649268747',\n",
       "       '5.949379984657176', '6.003699268483375', '6.220011967033064',\n",
       "       '6.234035288942436', '6.281427914064545', '6.322510495538448',\n",
       "       '6.397514584626231', '6.435589561443678', '6.456283313665443',\n",
       "       '6.513206893783746', '6.550063314366106', '6.577019046472794',\n",
       "       '6.587932953846258', '6.641685483781745', '6.691699941542483',\n",
       "       '6.779115813792924', '6.814392436798818', '6.87886105659619',\n",
       "       '6.969744011534154', '7.00422615108478', '7.09662547342962',\n",
       "       '7.106798807182176', '7.116760736111267', '7.149503765224105',\n",
       "       '7.172434500682598', '7.201312159374234', '7.3790401213355254',\n",
       "       '7.429751747911265', '7.4459661881795425', '7.477718562367257',\n",
       "       '7.510193557891102', '7.635234264470194', '7.65152738334079',\n",
       "       '7.675411781516552', '7.770520378282162', '7.83528480199408',\n",
       "       '7.8507285727125815', '7.862178589057771', '7.91131286615882',\n",
       "       '8.06691027455243', '8.089951461567338', '8.093122144125592',\n",
       "       '8.184505216288963', '8.207082203036407', '8.467136440992878',\n",
       "       '8.467973732272636', '8.55976114149872', '8.610351723980484',\n",
       "       '8.652736658281233', '8.75697137188656', '8.776428206240686',\n",
       "       '8.939527512253177', '9.010497302119484', '9.11018681591831',\n",
       "       '9.14308623325673', '9.155159699345592', '9.372028224582797',\n",
       "       '9.48804687078874', '9.572447429953115', '9.688188173044628',\n",
       "       '9.705834289565637', '9.763545538871448', '9.833290686346258',\n",
       "       '9.872502093614697', '9.916585802669502', nan], dtype=object)"
      ]
     },
     "metadata": {},
     "output_type": "display_data"
    },
    {
     "name": "stdout",
     "output_type": "stream",
     "text": [
      "Количество уникальных значений: 225\n",
      "--------------------------------------------------------------------------------\n",
      "\n",
      "\u001b[1mcount \n",
      "\u001b[0;0m\n"
     ]
    },
    {
     "data": {
      "text/plain": [
       "array(['-', '1007', '1009', '1011', '1013', '1022', '1037', '1041',\n",
       "       '1047', '1050', '1054', '1058', '1059', '1062', '1097', '110',\n",
       "       '1106', '1112', '1125', '114', '1145', '1146', '1155', '1158',\n",
       "       '1159', '1184', '1189', '1197', '1198', '1206', '1236', '1247',\n",
       "       '1249', '1250', '1260', '129', '1335', '1347', '1352', '1369',\n",
       "       '1377', '1382', '1384', '139', '1393', '1397', '1404', '1421',\n",
       "       '1433', '1438', '1443', '1451', '1455', '1476', '1484', '1491',\n",
       "       '1495', '1499', '1501', '1502', '1507', '1532', '1547', '1570',\n",
       "       '161', '1613', '1617', '1620', '1628', '163', '1631', '1653',\n",
       "       '166', '1665', '1667', '1669', '1694', '1702', '1703', '1705',\n",
       "       '1713', '172', '1725', '1727', '173', '1737', '1749', '1775',\n",
       "       '178', '1782', '1785', '1793', '1795', '1803', '1804', '1806',\n",
       "       '1814', '1815', '1817', '1818', '1819', '1831', '1834', '1839',\n",
       "       '1866', '1869', '19', '1901', '1907', '1920', '1928', '1934',\n",
       "       '1949', '1960', '1967', '1968', '1981', '1986', '203', '208', '22',\n",
       "       '228', '23', '236', '260', '279', '281', '30', '309', '321', '33',\n",
       "       '335', '347', '374', '381', '384', '387', '40', '401', '404',\n",
       "       '411', '421', '426', '428', '438', '44', '440', '454', '469',\n",
       "       '471', '480', '501', '506', '526', '535', '536', '538', '554',\n",
       "       '563', '586', '587', '605', '634', '639', '649', '65', '659',\n",
       "       '661', '670', '68', '682', '683', '691', '697', '715', '719',\n",
       "       '721', '723', '724', '749', '751', '756', '763', '773', '778',\n",
       "       '779', '813', '818', '823', '828', '836', '84', '85', '86', '866',\n",
       "       '889', '894', '904', '907', '910', '912', '936', '946', '965',\n",
       "       '973', '987', '99', 'N\\\\A', nan], dtype=object)"
      ]
     },
     "metadata": {},
     "output_type": "display_data"
    },
    {
     "name": "stdout",
     "output_type": "stream",
     "text": [
      "Количество уникальных значений: 208\n",
      "--------------------------------------------------------------------------------\n",
      "\n"
     ]
    }
   ],
   "source": [
    "for column in tz_column_list:\n",
    "    print('\\033[1m' + column,'\\n' + '\\033[0;0m')   \n",
    "    display(tz_data[column].sort_values().unique())\n",
    "    print(f'Количество уникальных значений: {tz_data[column].nunique()}')\n",
    "    print('-'*80)\n",
    "    print()\n"
   ]
  },
  {
   "cell_type": "code",
   "execution_count": 7,
   "id": "69841327-4fe8-4f22-ae87-c56ec754c39e",
   "metadata": {},
   "outputs": [
    {
     "data": {
      "text/plain": [
       "array(['1260', '866', '163', '1146', '823', '1377', '281', '1501', '139',\n",
       "       '309', '129', '1817', '23', '1795', '1013', '1184', '114', '203',\n",
       "       '1047', '683', '563', '1532', '813', '1703', '1986', '763', '1928',\n",
       "       '1949', '411', '1433', '1694', '1901', '426', '1793', '1247',\n",
       "       '910', '907', '1041', '1404', '454', '1037', '401', '1749', '649',\n",
       "       '99', '1206', '1022', 'N\\\\A', '1818', '1455', '936', '1705', '904',\n",
       "       '697', '1547', '1725', '374', '1197', '480', '19', '1421', '161',\n",
       "       '1803', '1384', '1727', '1393', '347', '428', '1667', '1158',\n",
       "       '818', '536', '661', '1011', '1831', '1451', '421', '501', '1737',\n",
       "       '469', '659', '1054', '1059', '178', '1869', '836', '1866', '973',\n",
       "       '1335', '1062', '1499', '381', '1050', '1159', '1785', '471',\n",
       "       '1382', '236', '1476', '1097', '1653', '1443', '586', '751', '173',\n",
       "       '1397', '773', '1007', '715', '682', '889', '1249', '172', '1189',\n",
       "       '260', '1669', '691', '670', '1713', '587', '1920', '535', '554',\n",
       "       '1484', '166', '384', '22', '828', '1617', '1665', '1814', '1352',\n",
       "       '1631', '1804', '440', '605', '1009', '40', '1112', '321', '1155',\n",
       "       '1570', '30', '1613', '756', '110', '1236', '44', '912', '1620',\n",
       "       '538', '1702', '1106', '1369', '1819', '719', '1775', '1495', '86',\n",
       "       '1834', '1507', '1907', '33', nan, '1347', '946', '228', '779',\n",
       "       '724', '1628', '721', '1981', '1934', '387', '1967', '208', '1198',\n",
       "       '1125', '1839', '894', '1058', '506', '749', '723', '1438', '1145',\n",
       "       '1815', '1960', '404', '639', '85', '1968', '987', '778', '1250',\n",
       "       '634', '68', '65', '965', '-', '438', '1491', '1502', '526', '279',\n",
       "       '335', '1782', '84', '1806'], dtype=object)"
      ]
     },
     "execution_count": 7,
     "metadata": {},
     "output_type": "execute_result"
    }
   ],
   "source": [
    "tz_data['count'].unique()"
   ]
  },
  {
   "cell_type": "markdown",
   "id": "38ef8e73-a762-4207-82ee-af9f2e92a6e0",
   "metadata": {},
   "source": [
    "### Предобработка данных"
   ]
  },
  {
   "cell_type": "markdown",
   "id": "ca20214a-f425-44f4-a67f-8d4efdb80486",
   "metadata": {},
   "source": [
    "#### Наименование колонок"
   ]
  },
  {
   "cell_type": "code",
   "execution_count": 8,
   "id": "5c3c650e-d277-4b98-be82-8165702f48c6",
   "metadata": {},
   "outputs": [],
   "source": [
    "tz_data.rename(columns = {'good (1)' : 'good'}, inplace = True)"
   ]
  },
  {
   "cell_type": "markdown",
   "id": "b6dd719f-1028-4830-9fcb-2f713a480d02",
   "metadata": {},
   "source": [
    "#### Изменение наименования area"
   ]
  },
  {
   "cell_type": "markdown",
   "id": "955d63bb-62c4-4ca9-8b91-6311fe16290e",
   "metadata": {},
   "source": [
    "Изменим именование области (`area`) - 'ar\\\\vr'."
   ]
  },
  {
   "cell_type": "code",
   "execution_count": 9,
   "id": "bec9bed8-f93f-4bdc-9bbe-f044f75ac805",
   "metadata": {},
   "outputs": [],
   "source": [
    "tz_data.loc[(tz_data['area'] == 'ar\\\\vr'), 'area'] = 'ar_vr' "
   ]
  },
  {
   "cell_type": "code",
   "execution_count": 10,
   "id": "f4a3c762-a1bf-4308-af78-d8f6f9d3ea1b",
   "metadata": {
    "tags": []
   },
   "outputs": [
    {
     "data": {
      "text/plain": [
       "array(['eligibility', 'capability', 'available', 'protein', 'winner',\n",
       "       'locator', 'worlds', 'ar_vr', 'twisted', 'lithuania', 'personnel',\n",
       "       'housewives', 'dialog', nan, 'except', 'greetings'], dtype=object)"
      ]
     },
     "execution_count": 10,
     "metadata": {},
     "output_type": "execute_result"
    }
   ],
   "source": [
    "tz_data['area'].unique()"
   ]
  },
  {
   "cell_type": "markdown",
   "id": "0a8a7034-1a20-455c-be51-c567fae3b7d0",
   "metadata": {},
   "source": [
    "#### Пропуски и аномальные значения"
   ]
  },
  {
   "cell_type": "code",
   "execution_count": 11,
   "id": "084fa675-8a21-4855-a810-f6922cfde0d5",
   "metadata": {
    "tags": []
   },
   "outputs": [
    {
     "data": {
      "text/html": [
       "<div>\n",
       "<style scoped>\n",
       "    .dataframe tbody tr th:only-of-type {\n",
       "        vertical-align: middle;\n",
       "    }\n",
       "\n",
       "    .dataframe tbody tr th {\n",
       "        vertical-align: top;\n",
       "    }\n",
       "\n",
       "    .dataframe thead th {\n",
       "        text-align: right;\n",
       "    }\n",
       "</style>\n",
       "<table border=\"1\" class=\"dataframe\">\n",
       "  <thead>\n",
       "    <tr style=\"text-align: right;\">\n",
       "      <th></th>\n",
       "      <th>area</th>\n",
       "      <th>cluster</th>\n",
       "      <th>cluster_name</th>\n",
       "      <th>keyword</th>\n",
       "      <th>good</th>\n",
       "      <th>count</th>\n",
       "      <th>x</th>\n",
       "      <th>y</th>\n",
       "    </tr>\n",
       "  </thead>\n",
       "  <tbody>\n",
       "    <tr>\n",
       "      <th>96</th>\n",
       "      <td>worlds</td>\n",
       "      <td>1.0</td>\n",
       "      <td>Кластер 1</td>\n",
       "      <td>operating stevens nirvana</td>\n",
       "      <td>NaN</td>\n",
       "      <td>381</td>\n",
       "      <td>3.585101</td>\n",
       "      <td>1.1168487718141744</td>\n",
       "    </tr>\n",
       "    <tr>\n",
       "      <th>178</th>\n",
       "      <td>housewives</td>\n",
       "      <td>2.0</td>\n",
       "      <td>Кластер 2</td>\n",
       "      <td>outstanding relations</td>\n",
       "      <td>1.0</td>\n",
       "      <td>NaN</td>\n",
       "      <td>1.289158</td>\n",
       "      <td>6.397514584626231</td>\n",
       "    </tr>\n",
       "    <tr>\n",
       "      <th>193</th>\n",
       "      <td>NaN</td>\n",
       "      <td>NaN</td>\n",
       "      <td>NaN</td>\n",
       "      <td>NaN</td>\n",
       "      <td>NaN</td>\n",
       "      <td>NaN</td>\n",
       "      <td>NaN</td>\n",
       "      <td>NaN</td>\n",
       "    </tr>\n",
       "  </tbody>\n",
       "</table>\n",
       "</div>"
      ],
      "text/plain": [
       "           area  cluster cluster_name                    keyword  good count  \\\n",
       "96       worlds      1.0    Кластер 1  operating stevens nirvana   NaN   381   \n",
       "178  housewives      2.0    Кластер 2      outstanding relations   1.0   NaN   \n",
       "193         NaN      NaN          NaN                        NaN   NaN   NaN   \n",
       "\n",
       "            x                   y  \n",
       "96   3.585101  1.1168487718141744  \n",
       "178  1.289158   6.397514584626231  \n",
       "193       NaN                 NaN  "
      ]
     },
     "execution_count": 11,
     "metadata": {},
     "output_type": "execute_result"
    }
   ],
   "source": [
    "null_data = tz_data[tz_data.isna().any(axis=1)]\n",
    "null_data"
   ]
  },
  {
   "cell_type": "code",
   "execution_count": 12,
   "id": "a49e3e81-293b-46d1-818c-baa83c8f8556",
   "metadata": {},
   "outputs": [
    {
     "data": {
      "text/html": [
       "<div>\n",
       "<style scoped>\n",
       "    .dataframe tbody tr th:only-of-type {\n",
       "        vertical-align: middle;\n",
       "    }\n",
       "\n",
       "    .dataframe tbody tr th {\n",
       "        vertical-align: top;\n",
       "    }\n",
       "\n",
       "    .dataframe thead th {\n",
       "        text-align: right;\n",
       "    }\n",
       "</style>\n",
       "<table border=\"1\" class=\"dataframe\">\n",
       "  <thead>\n",
       "    <tr style=\"text-align: right;\">\n",
       "      <th></th>\n",
       "      <th>area</th>\n",
       "      <th>cluster</th>\n",
       "      <th>cluster_name</th>\n",
       "      <th>keyword</th>\n",
       "      <th>good</th>\n",
       "      <th>count</th>\n",
       "      <th>x</th>\n",
       "      <th>y</th>\n",
       "    </tr>\n",
       "  </thead>\n",
       "  <tbody>\n",
       "    <tr>\n",
       "      <th>49</th>\n",
       "      <td>protein</td>\n",
       "      <td>0.0</td>\n",
       "      <td>Кластер 0</td>\n",
       "      <td>malawi sunset</td>\n",
       "      <td>1.0</td>\n",
       "      <td>N\\A</td>\n",
       "      <td>14.059563</td>\n",
       "      <td>11.980078795061226</td>\n",
       "    </tr>\n",
       "    <tr>\n",
       "      <th>217</th>\n",
       "      <td>greetings</td>\n",
       "      <td>1.0</td>\n",
       "      <td>Кластер 1</td>\n",
       "      <td>diversity unlike</td>\n",
       "      <td>1.0</td>\n",
       "      <td>-</td>\n",
       "      <td>9.195444</td>\n",
       "      <td>11.26136706467054</td>\n",
       "    </tr>\n",
       "  </tbody>\n",
       "</table>\n",
       "</div>"
      ],
      "text/plain": [
       "          area  cluster cluster_name           keyword  good count          x  \\\n",
       "49     protein      0.0    Кластер 0     malawi sunset   1.0   N\\A  14.059563   \n",
       "217  greetings      1.0    Кластер 1  diversity unlike   1.0     -   9.195444   \n",
       "\n",
       "                      y  \n",
       "49   11.980078795061226  \n",
       "217   11.26136706467054  "
      ]
     },
     "execution_count": 12,
     "metadata": {},
     "output_type": "execute_result"
    }
   ],
   "source": [
    "tz_data.query('count == \"N\\\\A\" or count == \"-\"')"
   ]
  },
  {
   "cell_type": "markdown",
   "id": "d3bc47a3-7331-4f90-b83d-d595348f2e1a",
   "metadata": {
    "tags": []
   },
   "source": [
    "В исходном датасете есть пропуски и нефрматные значения. Их доля невелика - 2,1% общего числа. С учетом целей ТЗ удалим эти данные."
   ]
  },
  {
   "cell_type": "code",
   "execution_count": 13,
   "id": "7edbcfb3-ecdd-43f4-83af-f4408e92ad5b",
   "metadata": {},
   "outputs": [],
   "source": [
    "tz_data = tz_data.dropna()"
   ]
  },
  {
   "cell_type": "code",
   "execution_count": 14,
   "id": "1fb631d4-8746-4e7c-93e0-2a52382e86f7",
   "metadata": {},
   "outputs": [
    {
     "data": {
      "text/html": [
       "<div>\n",
       "<style scoped>\n",
       "    .dataframe tbody tr th:only-of-type {\n",
       "        vertical-align: middle;\n",
       "    }\n",
       "\n",
       "    .dataframe tbody tr th {\n",
       "        vertical-align: top;\n",
       "    }\n",
       "\n",
       "    .dataframe thead th {\n",
       "        text-align: right;\n",
       "    }\n",
       "</style>\n",
       "<table border=\"1\" class=\"dataframe\">\n",
       "  <thead>\n",
       "    <tr style=\"text-align: right;\">\n",
       "      <th></th>\n",
       "      <th>area</th>\n",
       "      <th>cluster</th>\n",
       "      <th>cluster_name</th>\n",
       "      <th>keyword</th>\n",
       "      <th>good</th>\n",
       "      <th>count</th>\n",
       "      <th>x</th>\n",
       "      <th>y</th>\n",
       "    </tr>\n",
       "  </thead>\n",
       "  <tbody>\n",
       "  </tbody>\n",
       "</table>\n",
       "</div>"
      ],
      "text/plain": [
       "Empty DataFrame\n",
       "Columns: [area, cluster, cluster_name, keyword, good, count, x, y]\n",
       "Index: []"
      ]
     },
     "execution_count": 14,
     "metadata": {},
     "output_type": "execute_result"
    }
   ],
   "source": [
    "tz_data[tz_data.isna().any(axis=1)]"
   ]
  },
  {
   "cell_type": "code",
   "execution_count": 15,
   "id": "9f6553ff-bb02-4e4d-b8bc-68afe944452c",
   "metadata": {
    "tags": []
   },
   "outputs": [
    {
     "data": {
      "text/plain": [
       "(226, 8)"
      ]
     },
     "execution_count": 15,
     "metadata": {},
     "output_type": "execute_result"
    }
   ],
   "source": [
    "tz_data.shape"
   ]
  },
  {
   "cell_type": "code",
   "execution_count": 16,
   "id": "771d8402-fe81-40d2-a5b8-470838adf95a",
   "metadata": {},
   "outputs": [],
   "source": [
    "tz_data = tz_data.query('count not in [\"N\\\\A\", \"-\"]')"
   ]
  },
  {
   "cell_type": "code",
   "execution_count": 17,
   "id": "72b1c2c4-d0ef-4d31-b4d8-7cadb6287831",
   "metadata": {},
   "outputs": [
    {
     "data": {
      "text/plain": [
       "(224, 8)"
      ]
     },
     "execution_count": 17,
     "metadata": {},
     "output_type": "execute_result"
    }
   ],
   "source": [
    "tz_data.shape"
   ]
  },
  {
   "cell_type": "markdown",
   "id": "ff56746b-a78f-4c9e-bb4b-1a217fd46b45",
   "metadata": {},
   "source": [
    "#### Дубликаты слов в одной области (условие №3 ТЗ)"
   ]
  },
  {
   "cell_type": "markdown",
   "id": "70a527e9-e367-43ad-8299-3a10333c0a0d",
   "metadata": {},
   "source": [
    "Проверим наличие дубликатов слов в одной и той же области (условие выходных данных -  не должно быть дубликатов слов в одной и той же области (area), но словосочетание может повторяться из area в area)."
   ]
  },
  {
   "cell_type": "code",
   "execution_count": 18,
   "id": "1a7a8947-4079-49be-bbac-6dc8819df654",
   "metadata": {},
   "outputs": [
    {
     "data": {
      "text/html": [
       "<div>\n",
       "<style scoped>\n",
       "    .dataframe tbody tr th:only-of-type {\n",
       "        vertical-align: middle;\n",
       "    }\n",
       "\n",
       "    .dataframe tbody tr th {\n",
       "        vertical-align: top;\n",
       "    }\n",
       "\n",
       "    .dataframe thead th {\n",
       "        text-align: right;\n",
       "    }\n",
       "</style>\n",
       "<table border=\"1\" class=\"dataframe\">\n",
       "  <thead>\n",
       "    <tr style=\"text-align: right;\">\n",
       "      <th></th>\n",
       "      <th>area</th>\n",
       "      <th>total_keyword</th>\n",
       "      <th>nunique_keyword</th>\n",
       "      <th>duplicate_keyword</th>\n",
       "    </tr>\n",
       "  </thead>\n",
       "  <tbody>\n",
       "    <tr>\n",
       "      <th>0</th>\n",
       "      <td>ar_vr</td>\n",
       "      <td>15</td>\n",
       "      <td>14</td>\n",
       "      <td>1</td>\n",
       "    </tr>\n",
       "    <tr>\n",
       "      <th>3</th>\n",
       "      <td>dialog</td>\n",
       "      <td>15</td>\n",
       "      <td>14</td>\n",
       "      <td>1</td>\n",
       "    </tr>\n",
       "    <tr>\n",
       "      <th>4</th>\n",
       "      <td>eligibility</td>\n",
       "      <td>16</td>\n",
       "      <td>14</td>\n",
       "      <td>2</td>\n",
       "    </tr>\n",
       "    <tr>\n",
       "      <th>6</th>\n",
       "      <td>greetings</td>\n",
       "      <td>15</td>\n",
       "      <td>14</td>\n",
       "      <td>1</td>\n",
       "    </tr>\n",
       "    <tr>\n",
       "      <th>12</th>\n",
       "      <td>twisted</td>\n",
       "      <td>16</td>\n",
       "      <td>14</td>\n",
       "      <td>2</td>\n",
       "    </tr>\n",
       "  </tbody>\n",
       "</table>\n",
       "</div>"
      ],
      "text/plain": [
       "           area  total_keyword  nunique_keyword  duplicate_keyword\n",
       "0         ar_vr             15               14                  1\n",
       "3        dialog             15               14                  1\n",
       "4   eligibility             16               14                  2\n",
       "6     greetings             15               14                  1\n",
       "12      twisted             16               14                  2"
      ]
     },
     "execution_count": 18,
     "metadata": {},
     "output_type": "execute_result"
    }
   ],
   "source": [
    "keyword_number = tz_data.groupby('area', as_index = False)\\\n",
    "       .agg({'cluster_name':'count', 'keyword':'nunique'})\\\n",
    "       .rename(columns = {'cluster_name':'total_keyword', 'keyword':'nunique_keyword' })      \n",
    "keyword_number['duplicate_keyword'] = keyword_number['total_keyword'] - keyword_number['nunique_keyword'] \n",
    "keyword_number.query('duplicate_keyword > 0')"
   ]
  },
  {
   "cell_type": "markdown",
   "id": "061840cc-8955-4dc4-9d71-f03153dd87be",
   "metadata": {},
   "source": [
    "В 5 областях есть совпадающие значения - `keyword`.  \n",
    "Посмотрим, какие `keyword` повторяются."
   ]
  },
  {
   "cell_type": "code",
   "execution_count": 19,
   "id": "69630f7c-5fdc-4f2f-b3a9-bfe56660589b",
   "metadata": {},
   "outputs": [
    {
     "data": {
      "text/html": [
       "<div>\n",
       "<style scoped>\n",
       "    .dataframe tbody tr th:only-of-type {\n",
       "        vertical-align: middle;\n",
       "    }\n",
       "\n",
       "    .dataframe tbody tr th {\n",
       "        vertical-align: top;\n",
       "    }\n",
       "\n",
       "    .dataframe thead th {\n",
       "        text-align: right;\n",
       "    }\n",
       "</style>\n",
       "<table border=\"1\" class=\"dataframe\">\n",
       "  <thead>\n",
       "    <tr style=\"text-align: right;\">\n",
       "      <th></th>\n",
       "      <th>area</th>\n",
       "      <th>cluster</th>\n",
       "      <th>cluster_name</th>\n",
       "      <th>keyword</th>\n",
       "      <th>good</th>\n",
       "      <th>count</th>\n",
       "      <th>x</th>\n",
       "      <th>y</th>\n",
       "    </tr>\n",
       "  </thead>\n",
       "  <tbody>\n",
       "    <tr>\n",
       "      <th>2</th>\n",
       "      <td>eligibility</td>\n",
       "      <td>0.0</td>\n",
       "      <td>Кластер 0</td>\n",
       "      <td>hawaiian directive</td>\n",
       "      <td>1.0</td>\n",
       "      <td>163</td>\n",
       "      <td>11.381856</td>\n",
       "      <td>3.8981370219558604</td>\n",
       "    </tr>\n",
       "    <tr>\n",
       "      <th>8</th>\n",
       "      <td>eligibility</td>\n",
       "      <td>1.0</td>\n",
       "      <td>Кластер 1</td>\n",
       "      <td>vampire injured</td>\n",
       "      <td>0.0</td>\n",
       "      <td>139</td>\n",
       "      <td>5.247683</td>\n",
       "      <td>0.7791614555083071</td>\n",
       "    </tr>\n",
       "    <tr>\n",
       "      <th>9</th>\n",
       "      <td>eligibility</td>\n",
       "      <td>2.0</td>\n",
       "      <td>Кластер 2</td>\n",
       "      <td>vampire injured</td>\n",
       "      <td>0.0</td>\n",
       "      <td>139</td>\n",
       "      <td>5.247683</td>\n",
       "      <td>0.7791614555083071</td>\n",
       "    </tr>\n",
       "    <tr>\n",
       "      <th>15</th>\n",
       "      <td>eligibility</td>\n",
       "      <td>3.0</td>\n",
       "      <td>Кластер 3</td>\n",
       "      <td>hawaiian directive</td>\n",
       "      <td>1.0</td>\n",
       "      <td>1795</td>\n",
       "      <td>7.309672</td>\n",
       "      <td>2.9597385853299247</td>\n",
       "    </tr>\n",
       "    <tr>\n",
       "      <th>111</th>\n",
       "      <td>ar_vr</td>\n",
       "      <td>1.0</td>\n",
       "      <td>Кластер 1</td>\n",
       "      <td>filling volunteers academics</td>\n",
       "      <td>1.0</td>\n",
       "      <td>773</td>\n",
       "      <td>10.833920</td>\n",
       "      <td>8.652736658281233</td>\n",
       "    </tr>\n",
       "    <tr>\n",
       "      <th>117</th>\n",
       "      <td>ar_vr</td>\n",
       "      <td>2.0</td>\n",
       "      <td>Кластер 2</td>\n",
       "      <td>filling volunteers academics</td>\n",
       "      <td>1.0</td>\n",
       "      <td>172</td>\n",
       "      <td>4.813256</td>\n",
       "      <td>14.73962239754386</td>\n",
       "    </tr>\n",
       "    <tr>\n",
       "      <th>123</th>\n",
       "      <td>twisted</td>\n",
       "      <td>0.0</td>\n",
       "      <td>Кластер 0</td>\n",
       "      <td>recycling edited</td>\n",
       "      <td>1.0</td>\n",
       "      <td>1713</td>\n",
       "      <td>0.407415</td>\n",
       "      <td>5.5006444090606434</td>\n",
       "    </tr>\n",
       "    <tr>\n",
       "      <th>124</th>\n",
       "      <td>twisted</td>\n",
       "      <td>0.0</td>\n",
       "      <td>Кластер 0</td>\n",
       "      <td>offset cnetcom applying</td>\n",
       "      <td>1.0</td>\n",
       "      <td>587</td>\n",
       "      <td>2.167355</td>\n",
       "      <td>0.9953402239891002</td>\n",
       "    </tr>\n",
       "    <tr>\n",
       "      <th>125</th>\n",
       "      <td>twisted</td>\n",
       "      <td>1.0</td>\n",
       "      <td>Кластер 1</td>\n",
       "      <td>offset cnetcom applying</td>\n",
       "      <td>1.0</td>\n",
       "      <td>587</td>\n",
       "      <td>2.167355</td>\n",
       "      <td>0.9953402239891002</td>\n",
       "    </tr>\n",
       "    <tr>\n",
       "      <th>135</th>\n",
       "      <td>twisted</td>\n",
       "      <td>3.0</td>\n",
       "      <td>Кластер 3</td>\n",
       "      <td>recycling edited</td>\n",
       "      <td>1.0</td>\n",
       "      <td>1617</td>\n",
       "      <td>9.513728</td>\n",
       "      <td>0.30133952678609466</td>\n",
       "    </tr>\n",
       "    <tr>\n",
       "      <th>191</th>\n",
       "      <td>dialog</td>\n",
       "      <td>2.0</td>\n",
       "      <td>Кластер 2</td>\n",
       "      <td>battery pregnant</td>\n",
       "      <td>1.0</td>\n",
       "      <td>1198</td>\n",
       "      <td>2.980264</td>\n",
       "      <td>12.879143957932204</td>\n",
       "    </tr>\n",
       "    <tr>\n",
       "      <th>195</th>\n",
       "      <td>dialog</td>\n",
       "      <td>3.0</td>\n",
       "      <td>Кластер 3</td>\n",
       "      <td>battery pregnant</td>\n",
       "      <td>1.0</td>\n",
       "      <td>894</td>\n",
       "      <td>13.502971</td>\n",
       "      <td>10.076107624172634</td>\n",
       "    </tr>\n",
       "    <tr>\n",
       "      <th>220</th>\n",
       "      <td>greetings</td>\n",
       "      <td>1.0</td>\n",
       "      <td>Кластер 1</td>\n",
       "      <td>springer bumper</td>\n",
       "      <td>1.0</td>\n",
       "      <td>1491</td>\n",
       "      <td>2.721603</td>\n",
       "      <td>5.847621868330291</td>\n",
       "    </tr>\n",
       "    <tr>\n",
       "      <th>221</th>\n",
       "      <td>greetings</td>\n",
       "      <td>2.0</td>\n",
       "      <td>Кластер 2</td>\n",
       "      <td>springer bumper</td>\n",
       "      <td>1.0</td>\n",
       "      <td>1491</td>\n",
       "      <td>2.721603</td>\n",
       "      <td>5.847621868330291</td>\n",
       "    </tr>\n",
       "  </tbody>\n",
       "</table>\n",
       "</div>"
      ],
      "text/plain": [
       "            area  cluster cluster_name                       keyword  good  \\\n",
       "2    eligibility      0.0    Кластер 0            hawaiian directive   1.0   \n",
       "8    eligibility      1.0    Кластер 1               vampire injured   0.0   \n",
       "9    eligibility      2.0    Кластер 2               vampire injured   0.0   \n",
       "15   eligibility      3.0    Кластер 3            hawaiian directive   1.0   \n",
       "111        ar_vr      1.0    Кластер 1  filling volunteers academics   1.0   \n",
       "117        ar_vr      2.0    Кластер 2  filling volunteers academics   1.0   \n",
       "123      twisted      0.0    Кластер 0              recycling edited   1.0   \n",
       "124      twisted      0.0    Кластер 0       offset cnetcom applying   1.0   \n",
       "125      twisted      1.0    Кластер 1       offset cnetcom applying   1.0   \n",
       "135      twisted      3.0    Кластер 3              recycling edited   1.0   \n",
       "191       dialog      2.0    Кластер 2              battery pregnant   1.0   \n",
       "195       dialog      3.0    Кластер 3              battery pregnant   1.0   \n",
       "220    greetings      1.0    Кластер 1               springer bumper   1.0   \n",
       "221    greetings      2.0    Кластер 2               springer bumper   1.0   \n",
       "\n",
       "    count          x                    y  \n",
       "2     163  11.381856   3.8981370219558604  \n",
       "8     139   5.247683   0.7791614555083071  \n",
       "9     139   5.247683   0.7791614555083071  \n",
       "15   1795   7.309672   2.9597385853299247  \n",
       "111   773  10.833920    8.652736658281233  \n",
       "117   172   4.813256    14.73962239754386  \n",
       "123  1713   0.407415   5.5006444090606434  \n",
       "124   587   2.167355   0.9953402239891002  \n",
       "125   587   2.167355   0.9953402239891002  \n",
       "135  1617   9.513728  0.30133952678609466  \n",
       "191  1198   2.980264   12.879143957932204  \n",
       "195   894  13.502971   10.076107624172634  \n",
       "220  1491   2.721603    5.847621868330291  \n",
       "221  1491   2.721603    5.847621868330291  "
      ]
     },
     "execution_count": 19,
     "metadata": {},
     "output_type": "execute_result"
    }
   ],
   "source": [
    "tz_data[tz_data.duplicated(['area','keyword'], keep=False)]"
   ]
  },
  {
   "cell_type": "markdown",
   "id": "efd9ec3e-4443-4d16-a24a-d305ce4c5745",
   "metadata": {},
   "source": [
    "Для ряда `keyword` - `vampire injured`, `offset cnetcom applying`, `springer bumperspringer bumper` - отличаются только кластеры. Для остальных `keyword` совпадает только `area` и `keyword`.  \n",
    "В связи с отсутствием дополнительной информации о приоритете попадания в финальный датасет дублирующихся позиций оставим первое вхождение. "
   ]
  },
  {
   "cell_type": "code",
   "execution_count": 20,
   "id": "983654e6-b3b0-485f-909c-f8c00c9c3f58",
   "metadata": {
    "tags": []
   },
   "outputs": [],
   "source": [
    "tz_data = tz_data.drop_duplicates(['area','keyword'], keep='first')"
   ]
  },
  {
   "cell_type": "code",
   "execution_count": 21,
   "id": "0bcab72a-7418-46cd-9c02-af8a44595828",
   "metadata": {},
   "outputs": [
    {
     "data": {
      "text/plain": [
       "(217, 8)"
      ]
     },
     "execution_count": 21,
     "metadata": {},
     "output_type": "execute_result"
    }
   ],
   "source": [
    "tz_data.shape"
   ]
  },
  {
   "cell_type": "markdown",
   "id": "cb4acfdf-9671-49b4-8027-ee4b4596a3c3",
   "metadata": {},
   "source": [
    "#### Изменение типа данных"
   ]
  },
  {
   "cell_type": "code",
   "execution_count": 22,
   "id": "8f36dec2-fb89-45e1-a1c6-86c5252b9717",
   "metadata": {},
   "outputs": [],
   "source": [
    "tz_data['cluster'] = tz_data['cluster'].astype('int')\n",
    "tz_data['y'] = pd.to_numeric(tz_data['y'], errors='coerce')\n",
    "tz_data['count'] = pd.to_numeric(tz_data['count'], errors='coerce')"
   ]
  },
  {
   "cell_type": "code",
   "execution_count": 23,
   "id": "a173f5db-2447-40c8-9bed-65057ae838ed",
   "metadata": {},
   "outputs": [
    {
     "name": "stdout",
     "output_type": "stream",
     "text": [
      "<class 'pandas.core.frame.DataFrame'>\n",
      "Int64Index: 217 entries, 0 to 228\n",
      "Data columns (total 8 columns):\n",
      " #   Column        Non-Null Count  Dtype  \n",
      "---  ------        --------------  -----  \n",
      " 0   area          217 non-null    object \n",
      " 1   cluster       217 non-null    int32  \n",
      " 2   cluster_name  217 non-null    object \n",
      " 3   keyword       217 non-null    object \n",
      " 4   good          217 non-null    float64\n",
      " 5   count         217 non-null    int64  \n",
      " 6   x             217 non-null    float64\n",
      " 7   y             216 non-null    float64\n",
      "dtypes: float64(3), int32(1), int64(1), object(3)\n",
      "memory usage: 14.4+ KB\n"
     ]
    }
   ],
   "source": [
    "tz_data.info()"
   ]
  },
  {
   "cell_type": "code",
   "execution_count": 24,
   "id": "1371cd7a-4ab6-4e12-88b6-ba88e7b28bf4",
   "metadata": {},
   "outputs": [],
   "source": [
    "tz_data = tz_data.dropna()"
   ]
  },
  {
   "cell_type": "code",
   "execution_count": 25,
   "id": "0e6d27ed-788e-4da9-96dc-de8004f02cae",
   "metadata": {},
   "outputs": [
    {
     "data": {
      "text/html": [
       "<div>\n",
       "<style scoped>\n",
       "    .dataframe tbody tr th:only-of-type {\n",
       "        vertical-align: middle;\n",
       "    }\n",
       "\n",
       "    .dataframe tbody tr th {\n",
       "        vertical-align: top;\n",
       "    }\n",
       "\n",
       "    .dataframe thead th {\n",
       "        text-align: right;\n",
       "    }\n",
       "</style>\n",
       "<table border=\"1\" class=\"dataframe\">\n",
       "  <thead>\n",
       "    <tr style=\"text-align: right;\">\n",
       "      <th></th>\n",
       "      <th>area</th>\n",
       "      <th>cluster</th>\n",
       "      <th>cluster_name</th>\n",
       "      <th>keyword</th>\n",
       "      <th>good</th>\n",
       "      <th>count</th>\n",
       "      <th>x</th>\n",
       "      <th>y</th>\n",
       "    </tr>\n",
       "  </thead>\n",
       "  <tbody>\n",
       "  </tbody>\n",
       "</table>\n",
       "</div>"
      ],
      "text/plain": [
       "Empty DataFrame\n",
       "Columns: [area, cluster, cluster_name, keyword, good, count, x, y]\n",
       "Index: []"
      ]
     },
     "execution_count": 25,
     "metadata": {},
     "output_type": "execute_result"
    }
   ],
   "source": [
    "tz_data[tz_data.isna().any(axis=1)]"
   ]
  },
  {
   "cell_type": "markdown",
   "id": "9b06ca27-9751-4203-af55-82feac720a88",
   "metadata": {},
   "source": [
    "#### Вывод"
   ]
  },
  {
   "cell_type": "markdown",
   "id": "f6bb58fb-76f7-43e5-820e-f943c88959c6",
   "metadata": {},
   "source": [
    "Преобразованный датафрейм `tz_data` содержит 217 строк, 15 уникальных областей, по 4 кластера в каждой.  \n",
    "Обработаны пропуски и дубликаты: в пропущенных значения удалена полностью одна строка, в дубликатах - оставлены строки первого вхождения.  \n",
    "Изменено наименование столбца `good (1)`.  \n",
    "Изменен тип данных столбца `cluster` на `int`, `y` на `float`, `count` на `int`."
   ]
  },
  {
   "cell_type": "markdown",
   "id": "a341ecff-84e8-4855-a9fd-1bf7f4fd1e55",
   "metadata": {},
   "source": [
    "### Обогащение данных"
   ]
  },
  {
   "cell_type": "markdown",
   "id": "91e6f5a6-d413-43e9-8859-5d0451385ff0",
   "metadata": {},
   "source": [
    "Посмотрим, сколько кластеров в каждой области."
   ]
  },
  {
   "cell_type": "code",
   "execution_count": 26,
   "id": "e2e074b1-a715-4d3e-a24a-47ffb0836131",
   "metadata": {},
   "outputs": [
    {
     "data": {
      "text/html": [
       "<div>\n",
       "<style scoped>\n",
       "    .dataframe tbody tr th:only-of-type {\n",
       "        vertical-align: middle;\n",
       "    }\n",
       "\n",
       "    .dataframe tbody tr th {\n",
       "        vertical-align: top;\n",
       "    }\n",
       "\n",
       "    .dataframe thead th {\n",
       "        text-align: right;\n",
       "    }\n",
       "</style>\n",
       "<table border=\"1\" class=\"dataframe\">\n",
       "  <thead>\n",
       "    <tr style=\"text-align: right;\">\n",
       "      <th></th>\n",
       "      <th>area</th>\n",
       "      <th>cluster_name</th>\n",
       "    </tr>\n",
       "  </thead>\n",
       "  <tbody>\n",
       "    <tr>\n",
       "      <th>0</th>\n",
       "      <td>ar_vr</td>\n",
       "      <td>4</td>\n",
       "    </tr>\n",
       "    <tr>\n",
       "      <th>1</th>\n",
       "      <td>available</td>\n",
       "      <td>4</td>\n",
       "    </tr>\n",
       "    <tr>\n",
       "      <th>2</th>\n",
       "      <td>capability</td>\n",
       "      <td>4</td>\n",
       "    </tr>\n",
       "    <tr>\n",
       "      <th>3</th>\n",
       "      <td>dialog</td>\n",
       "      <td>4</td>\n",
       "    </tr>\n",
       "    <tr>\n",
       "      <th>4</th>\n",
       "      <td>eligibility</td>\n",
       "      <td>4</td>\n",
       "    </tr>\n",
       "    <tr>\n",
       "      <th>5</th>\n",
       "      <td>except</td>\n",
       "      <td>4</td>\n",
       "    </tr>\n",
       "    <tr>\n",
       "      <th>6</th>\n",
       "      <td>greetings</td>\n",
       "      <td>4</td>\n",
       "    </tr>\n",
       "    <tr>\n",
       "      <th>7</th>\n",
       "      <td>housewives</td>\n",
       "      <td>4</td>\n",
       "    </tr>\n",
       "    <tr>\n",
       "      <th>8</th>\n",
       "      <td>lithuania</td>\n",
       "      <td>4</td>\n",
       "    </tr>\n",
       "    <tr>\n",
       "      <th>9</th>\n",
       "      <td>locator</td>\n",
       "      <td>4</td>\n",
       "    </tr>\n",
       "    <tr>\n",
       "      <th>10</th>\n",
       "      <td>personnel</td>\n",
       "      <td>4</td>\n",
       "    </tr>\n",
       "    <tr>\n",
       "      <th>11</th>\n",
       "      <td>protein</td>\n",
       "      <td>4</td>\n",
       "    </tr>\n",
       "    <tr>\n",
       "      <th>12</th>\n",
       "      <td>twisted</td>\n",
       "      <td>4</td>\n",
       "    </tr>\n",
       "    <tr>\n",
       "      <th>13</th>\n",
       "      <td>winner</td>\n",
       "      <td>4</td>\n",
       "    </tr>\n",
       "    <tr>\n",
       "      <th>14</th>\n",
       "      <td>worlds</td>\n",
       "      <td>4</td>\n",
       "    </tr>\n",
       "  </tbody>\n",
       "</table>\n",
       "</div>"
      ],
      "text/plain": [
       "           area  cluster_name\n",
       "0         ar_vr             4\n",
       "1     available             4\n",
       "2    capability             4\n",
       "3        dialog             4\n",
       "4   eligibility             4\n",
       "5        except             4\n",
       "6     greetings             4\n",
       "7    housewives             4\n",
       "8     lithuania             4\n",
       "9       locator             4\n",
       "10    personnel             4\n",
       "11      protein             4\n",
       "12      twisted             4\n",
       "13       winner             4\n",
       "14       worlds             4"
      ]
     },
     "execution_count": 26,
     "metadata": {},
     "output_type": "execute_result"
    }
   ],
   "source": [
    "tz_data.groupby('area', as_index = False)['cluster_name'].nunique()"
   ]
  },
  {
   "cell_type": "markdown",
   "id": "9ab64f09-81bf-4551-9b65-fd73c85a58fc",
   "metadata": {},
   "source": [
    "У каждой области 4 кластера.  \n",
    "В присвоении цветов возможно 2 подхода:  \n",
    "- присвоить каждому уникальному кластеру свой цвет без учета области (4 оттенка);  \n",
    "- привосить каждому кластеру цвет с учетом области (60 оттенков);  \n",
    "- комбинация первых двух: сформировать несколько цветовых наборов для 4-х кластеров и использовать их повторно."
   ]
  },
  {
   "cell_type": "markdown",
   "id": "53c4b1bf-8f0b-4c89-977e-025956b7be1f",
   "metadata": {},
   "source": [
    "В рамках данной задачи будем использовать первый вариант формирования цветовых схем."
   ]
  },
  {
   "cell_type": "code",
   "execution_count": 27,
   "id": "06dd389d-6fd7-44d9-9d0c-c56bc4be9668",
   "metadata": {},
   "outputs": [],
   "source": [
    "tz_data['color'] = tz_data.apply(get_cluster_color, axis=1)"
   ]
  },
  {
   "cell_type": "markdown",
   "id": "f35a2796-eac9-4d6a-929f-36e1e1923173",
   "metadata": {},
   "source": [
    "#### Вывод"
   ]
  },
  {
   "cell_type": "markdown",
   "id": "68dbf649-f4bf-4933-a202-e136e2c43a95",
   "metadata": {},
   "source": [
    "В tz_data добавлен столбец `color`, содержащий данные о цвете, присвоенном кластеру с учетом условий ТЗ."
   ]
  },
  {
   "cell_type": "markdown",
   "id": "8a669b81-8160-4692-bd21-3fb876804126",
   "metadata": {
    "tags": []
   },
   "source": [
    "### Требования к форме выходных данных"
   ]
  },
  {
   "cell_type": "markdown",
   "id": "9595d758-d4d4-468c-9b34-20b3a0113a90",
   "metadata": {},
   "source": [
    "Проверим требования выходных данных."
   ]
  },
  {
   "cell_type": "markdown",
   "id": "cbdc76a9-bf28-47d9-8e6b-5b78742b8e3e",
   "metadata": {},
   "source": [
    "#### Колонки"
   ]
  },
  {
   "cell_type": "markdown",
   "id": "8dc91b86-33a1-4766-8591-9989c0da308f",
   "metadata": {},
   "source": [
    " 1) В выходной таблице должны остаться только следующие колонки:  \n",
    "area, cluster, cluster_name, keyword, x, y, count, color, где  \n",
    " area - область,  \n",
    " cluster - номер кластера,  \n",
    " cluster_name - название кластера,  \n",
    " keyword - словосочетание,  \n",
    " count - показатель,  \n",
    " x и y - координаты для диаграммы рассеяния,  \n",
    " color - цвет точки на карте для данного словосочетания  \n",
    "  "
   ]
  },
  {
   "cell_type": "code",
   "execution_count": 28,
   "id": "e3c93b44-1fe3-495d-ac73-85ac7e5d3061",
   "metadata": {},
   "outputs": [
    {
     "data": {
      "text/html": [
       "<div>\n",
       "<style scoped>\n",
       "    .dataframe tbody tr th:only-of-type {\n",
       "        vertical-align: middle;\n",
       "    }\n",
       "\n",
       "    .dataframe tbody tr th {\n",
       "        vertical-align: top;\n",
       "    }\n",
       "\n",
       "    .dataframe thead th {\n",
       "        text-align: right;\n",
       "    }\n",
       "</style>\n",
       "<table border=\"1\" class=\"dataframe\">\n",
       "  <thead>\n",
       "    <tr style=\"text-align: right;\">\n",
       "      <th></th>\n",
       "      <th>area</th>\n",
       "      <th>cluster</th>\n",
       "      <th>cluster_name</th>\n",
       "      <th>keyword</th>\n",
       "      <th>x</th>\n",
       "      <th>y</th>\n",
       "      <th>count</th>\n",
       "      <th>color</th>\n",
       "    </tr>\n",
       "  </thead>\n",
       "  <tbody>\n",
       "    <tr>\n",
       "      <th>0</th>\n",
       "      <td>eligibility</td>\n",
       "      <td>0</td>\n",
       "      <td>Кластер 0</td>\n",
       "      <td>several animated buried</td>\n",
       "      <td>5.772342</td>\n",
       "      <td>12.564796</td>\n",
       "      <td>1260</td>\n",
       "      <td>#1f77b4</td>\n",
       "    </tr>\n",
       "    <tr>\n",
       "      <th>1</th>\n",
       "      <td>eligibility</td>\n",
       "      <td>0</td>\n",
       "      <td>Кластер 0</td>\n",
       "      <td>singles unusual buyers</td>\n",
       "      <td>14.829280</td>\n",
       "      <td>7.850729</td>\n",
       "      <td>866</td>\n",
       "      <td>#1f77b4</td>\n",
       "    </tr>\n",
       "    <tr>\n",
       "      <th>2</th>\n",
       "      <td>eligibility</td>\n",
       "      <td>0</td>\n",
       "      <td>Кластер 0</td>\n",
       "      <td>hawaiian directive</td>\n",
       "      <td>11.381856</td>\n",
       "      <td>3.898137</td>\n",
       "      <td>163</td>\n",
       "      <td>#1f77b4</td>\n",
       "    </tr>\n",
       "    <tr>\n",
       "      <th>3</th>\n",
       "      <td>eligibility</td>\n",
       "      <td>0</td>\n",
       "      <td>Кластер 0</td>\n",
       "      <td>dynamics directly</td>\n",
       "      <td>9.980149</td>\n",
       "      <td>6.281428</td>\n",
       "      <td>1146</td>\n",
       "      <td>#1f77b4</td>\n",
       "    </tr>\n",
       "    <tr>\n",
       "      <th>4</th>\n",
       "      <td>eligibility</td>\n",
       "      <td>1</td>\n",
       "      <td>Кластер 1</td>\n",
       "      <td>decision surgeons montreal</td>\n",
       "      <td>3.283940</td>\n",
       "      <td>4.396741</td>\n",
       "      <td>823</td>\n",
       "      <td>#ff7f0e</td>\n",
       "    </tr>\n",
       "  </tbody>\n",
       "</table>\n",
       "</div>"
      ],
      "text/plain": [
       "          area  cluster cluster_name                     keyword          x  \\\n",
       "0  eligibility        0    Кластер 0     several animated buried   5.772342   \n",
       "1  eligibility        0    Кластер 0      singles unusual buyers  14.829280   \n",
       "2  eligibility        0    Кластер 0          hawaiian directive  11.381856   \n",
       "3  eligibility        0    Кластер 0           dynamics directly   9.980149   \n",
       "4  eligibility        1    Кластер 1  decision surgeons montreal   3.283940   \n",
       "\n",
       "           y  count    color  \n",
       "0  12.564796   1260  #1f77b4  \n",
       "1   7.850729    866  #1f77b4  \n",
       "2   3.898137    163  #1f77b4  \n",
       "3   6.281428   1146  #1f77b4  \n",
       "4   4.396741    823  #ff7f0e  "
      ]
     },
     "execution_count": 28,
     "metadata": {},
     "output_type": "execute_result"
    }
   ],
   "source": [
    "tz_data = tz_data[['area', 'cluster', 'cluster_name', 'keyword', 'x', 'y', 'count', 'color']]\n",
    "tz_data.head()"
   ]
  },
  {
   "cell_type": "markdown",
   "id": "726f387f-994f-463f-ad9a-c1c39877ec61",
   "metadata": {},
   "source": [
    "Требования 2-5 выполнены на этапе предобработки и обогащения данных."
   ]
  },
  {
   "cell_type": "markdown",
   "id": "ade8d857-9f1d-4d73-adfd-392cafaf6807",
   "metadata": {},
   "source": [
    "#### Сортировка данных"
   ]
  },
  {
   "cell_type": "markdown",
   "id": "6e6a7039-0a17-4985-a245-5a354ccdb1c7",
   "metadata": {},
   "source": [
    "Сортировка должна происходить по колонкам area, cluster, cluster_name, count (по count значения сортируются в убывающем порядке, в остальных - по возрастающему)"
   ]
  },
  {
   "cell_type": "code",
   "execution_count": 29,
   "id": "c8f98c2e-661a-4074-9fc5-7da0777f5751",
   "metadata": {},
   "outputs": [],
   "source": [
    "tz_data.sort_values(\n",
    "    by = ['area', 'cluster', 'cluster_name', 'count'],\n",
    "    ascending = [True, True, True, False],\n",
    "    inplace = True\n",
    ")"
   ]
  },
  {
   "cell_type": "code",
   "execution_count": 30,
   "id": "bad63be6-a3ee-4b8f-993d-99a806642714",
   "metadata": {},
   "outputs": [
    {
     "data": {
      "text/html": [
       "<div>\n",
       "<style scoped>\n",
       "    .dataframe tbody tr th:only-of-type {\n",
       "        vertical-align: middle;\n",
       "    }\n",
       "\n",
       "    .dataframe tbody tr th {\n",
       "        vertical-align: top;\n",
       "    }\n",
       "\n",
       "    .dataframe thead th {\n",
       "        text-align: right;\n",
       "    }\n",
       "</style>\n",
       "<table border=\"1\" class=\"dataframe\">\n",
       "  <thead>\n",
       "    <tr style=\"text-align: right;\">\n",
       "      <th></th>\n",
       "      <th>area</th>\n",
       "      <th>cluster</th>\n",
       "      <th>cluster_name</th>\n",
       "      <th>keyword</th>\n",
       "      <th>x</th>\n",
       "      <th>y</th>\n",
       "      <th>count</th>\n",
       "      <th>color</th>\n",
       "    </tr>\n",
       "  </thead>\n",
       "  <tbody>\n",
       "    <tr>\n",
       "      <th>106</th>\n",
       "      <td>ar_vr</td>\n",
       "      <td>0</td>\n",
       "      <td>Кластер 0</td>\n",
       "      <td>written conflict fabulous</td>\n",
       "      <td>2.991167</td>\n",
       "      <td>7.106799</td>\n",
       "      <td>1443</td>\n",
       "      <td>#1f77b4</td>\n",
       "    </tr>\n",
       "    <tr>\n",
       "      <th>108</th>\n",
       "      <td>ar_vr</td>\n",
       "      <td>0</td>\n",
       "      <td>Кластер 0</td>\n",
       "      <td>reservations linking</td>\n",
       "      <td>10.195602</td>\n",
       "      <td>12.259496</td>\n",
       "      <td>751</td>\n",
       "      <td>#1f77b4</td>\n",
       "    </tr>\n",
       "    <tr>\n",
       "      <th>107</th>\n",
       "      <td>ar_vr</td>\n",
       "      <td>0</td>\n",
       "      <td>Кластер 0</td>\n",
       "      <td>interfaces neutral</td>\n",
       "      <td>10.443533</td>\n",
       "      <td>13.809915</td>\n",
       "      <td>586</td>\n",
       "      <td>#1f77b4</td>\n",
       "    </tr>\n",
       "    <tr>\n",
       "      <th>109</th>\n",
       "      <td>ar_vr</td>\n",
       "      <td>0</td>\n",
       "      <td>Кластер 0</td>\n",
       "      <td>committees parallel</td>\n",
       "      <td>6.735260</td>\n",
       "      <td>3.613983</td>\n",
       "      <td>173</td>\n",
       "      <td>#1f77b4</td>\n",
       "    </tr>\n",
       "    <tr>\n",
       "      <th>110</th>\n",
       "      <td>ar_vr</td>\n",
       "      <td>1</td>\n",
       "      <td>Кластер 1</td>\n",
       "      <td>postcards looked republic detector</td>\n",
       "      <td>10.474474</td>\n",
       "      <td>6.220012</td>\n",
       "      <td>1397</td>\n",
       "      <td>#ff7f0e</td>\n",
       "    </tr>\n",
       "  </tbody>\n",
       "</table>\n",
       "</div>"
      ],
      "text/plain": [
       "      area  cluster cluster_name                             keyword  \\\n",
       "106  ar_vr        0    Кластер 0           written conflict fabulous   \n",
       "108  ar_vr        0    Кластер 0                reservations linking   \n",
       "107  ar_vr        0    Кластер 0                  interfaces neutral   \n",
       "109  ar_vr        0    Кластер 0                 committees parallel   \n",
       "110  ar_vr        1    Кластер 1  postcards looked republic detector   \n",
       "\n",
       "             x          y  count    color  \n",
       "106   2.991167   7.106799   1443  #1f77b4  \n",
       "108  10.195602  12.259496    751  #1f77b4  \n",
       "107  10.443533  13.809915    586  #1f77b4  \n",
       "109   6.735260   3.613983    173  #1f77b4  \n",
       "110  10.474474   6.220012   1397  #ff7f0e  "
      ]
     },
     "execution_count": 30,
     "metadata": {},
     "output_type": "execute_result"
    }
   ],
   "source": [
    "tz_data.head()"
   ]
  },
  {
   "cell_type": "markdown",
   "id": "ede854c1-c336-4749-8a5b-10ea49cea714",
   "metadata": {},
   "source": [
    "#### Проверка полноты выходных данных"
   ]
  },
  {
   "cell_type": "markdown",
   "id": "693a3fc6-d586-43e3-889a-5bee6a2a6e5c",
   "metadata": {},
   "source": [
    "7) Количество переданных в исходных ключевых слов должно совпадать с количество слов в выходных данных (за исключением дублированных строк или строк с пустыми\\неформатными значениями по ключевым показателям [перечислены в п. 1], если такие имеются). "
   ]
  },
  {
   "cell_type": "code",
   "execution_count": 31,
   "id": "d8b5cb7a-4d26-438a-997c-11851a88ff71",
   "metadata": {},
   "outputs": [
    {
     "data": {
      "text/plain": [
       "(216, 8)"
      ]
     },
     "execution_count": 31,
     "metadata": {},
     "output_type": "execute_result"
    }
   ],
   "source": [
    "tz_data.shape"
   ]
  },
  {
   "cell_type": "code",
   "execution_count": 32,
   "id": "89cba15c-8784-4d08-89c9-023a28169b8f",
   "metadata": {},
   "outputs": [
    {
     "data": {
      "text/html": [
       "<div>\n",
       "<style scoped>\n",
       "    .dataframe tbody tr th:only-of-type {\n",
       "        vertical-align: middle;\n",
       "    }\n",
       "\n",
       "    .dataframe tbody tr th {\n",
       "        vertical-align: top;\n",
       "    }\n",
       "\n",
       "    .dataframe thead th {\n",
       "        text-align: right;\n",
       "    }\n",
       "</style>\n",
       "<table border=\"1\" class=\"dataframe\">\n",
       "  <thead>\n",
       "    <tr style=\"text-align: right;\">\n",
       "      <th></th>\n",
       "      <th>area</th>\n",
       "      <th>cluster</th>\n",
       "      <th>cluster_name</th>\n",
       "      <th>keyword</th>\n",
       "      <th>x</th>\n",
       "      <th>y</th>\n",
       "      <th>count</th>\n",
       "      <th>color</th>\n",
       "    </tr>\n",
       "  </thead>\n",
       "  <tbody>\n",
       "    <tr>\n",
       "      <th>0</th>\n",
       "      <td>ar_vr</td>\n",
       "      <td>0</td>\n",
       "      <td>Кластер 0</td>\n",
       "      <td>written conflict fabulous</td>\n",
       "      <td>2.991167</td>\n",
       "      <td>7.106799</td>\n",
       "      <td>1443</td>\n",
       "      <td>#1f77b4</td>\n",
       "    </tr>\n",
       "    <tr>\n",
       "      <th>1</th>\n",
       "      <td>ar_vr</td>\n",
       "      <td>0</td>\n",
       "      <td>Кластер 0</td>\n",
       "      <td>reservations linking</td>\n",
       "      <td>10.195602</td>\n",
       "      <td>12.259496</td>\n",
       "      <td>751</td>\n",
       "      <td>#1f77b4</td>\n",
       "    </tr>\n",
       "    <tr>\n",
       "      <th>2</th>\n",
       "      <td>ar_vr</td>\n",
       "      <td>0</td>\n",
       "      <td>Кластер 0</td>\n",
       "      <td>interfaces neutral</td>\n",
       "      <td>10.443533</td>\n",
       "      <td>13.809915</td>\n",
       "      <td>586</td>\n",
       "      <td>#1f77b4</td>\n",
       "    </tr>\n",
       "    <tr>\n",
       "      <th>3</th>\n",
       "      <td>ar_vr</td>\n",
       "      <td>0</td>\n",
       "      <td>Кластер 0</td>\n",
       "      <td>committees parallel</td>\n",
       "      <td>6.735260</td>\n",
       "      <td>3.613983</td>\n",
       "      <td>173</td>\n",
       "      <td>#1f77b4</td>\n",
       "    </tr>\n",
       "    <tr>\n",
       "      <th>4</th>\n",
       "      <td>ar_vr</td>\n",
       "      <td>1</td>\n",
       "      <td>Кластер 1</td>\n",
       "      <td>postcards looked republic detector</td>\n",
       "      <td>10.474474</td>\n",
       "      <td>6.220012</td>\n",
       "      <td>1397</td>\n",
       "      <td>#ff7f0e</td>\n",
       "    </tr>\n",
       "    <tr>\n",
       "      <th>...</th>\n",
       "      <td>...</td>\n",
       "      <td>...</td>\n",
       "      <td>...</td>\n",
       "      <td>...</td>\n",
       "      <td>...</td>\n",
       "      <td>...</td>\n",
       "      <td>...</td>\n",
       "      <td>...</td>\n",
       "    </tr>\n",
       "    <tr>\n",
       "      <th>211</th>\n",
       "      <td>worlds</td>\n",
       "      <td>2</td>\n",
       "      <td>Кластер 2</td>\n",
       "      <td>ringtone parental</td>\n",
       "      <td>11.723895</td>\n",
       "      <td>4.363994</td>\n",
       "      <td>471</td>\n",
       "      <td>#2ca02c</td>\n",
       "    </tr>\n",
       "    <tr>\n",
       "      <th>212</th>\n",
       "      <td>worlds</td>\n",
       "      <td>2</td>\n",
       "      <td>Кластер 2</td>\n",
       "      <td>recipient traffic</td>\n",
       "      <td>5.593629</td>\n",
       "      <td>0.553368</td>\n",
       "      <td>236</td>\n",
       "      <td>#2ca02c</td>\n",
       "    </tr>\n",
       "    <tr>\n",
       "      <th>213</th>\n",
       "      <td>worlds</td>\n",
       "      <td>3</td>\n",
       "      <td>Кластер 3</td>\n",
       "      <td>immunology plates</td>\n",
       "      <td>2.407028</td>\n",
       "      <td>7.651527</td>\n",
       "      <td>1653</td>\n",
       "      <td>#d62728</td>\n",
       "    </tr>\n",
       "    <tr>\n",
       "      <th>214</th>\n",
       "      <td>worlds</td>\n",
       "      <td>3</td>\n",
       "      <td>Кластер 3</td>\n",
       "      <td>holdings herbal</td>\n",
       "      <td>3.986508</td>\n",
       "      <td>10.906340</td>\n",
       "      <td>1476</td>\n",
       "      <td>#d62728</td>\n",
       "    </tr>\n",
       "    <tr>\n",
       "      <th>215</th>\n",
       "      <td>worlds</td>\n",
       "      <td>3</td>\n",
       "      <td>Кластер 3</td>\n",
       "      <td>exchanges castle</td>\n",
       "      <td>8.082231</td>\n",
       "      <td>6.587933</td>\n",
       "      <td>1097</td>\n",
       "      <td>#d62728</td>\n",
       "    </tr>\n",
       "  </tbody>\n",
       "</table>\n",
       "<p>216 rows × 8 columns</p>\n",
       "</div>"
      ],
      "text/plain": [
       "       area  cluster cluster_name                             keyword  \\\n",
       "0     ar_vr        0    Кластер 0           written conflict fabulous   \n",
       "1     ar_vr        0    Кластер 0                reservations linking   \n",
       "2     ar_vr        0    Кластер 0                  interfaces neutral   \n",
       "3     ar_vr        0    Кластер 0                 committees parallel   \n",
       "4     ar_vr        1    Кластер 1  postcards looked republic detector   \n",
       "..      ...      ...          ...                                 ...   \n",
       "211  worlds        2    Кластер 2                   ringtone parental   \n",
       "212  worlds        2    Кластер 2                   recipient traffic   \n",
       "213  worlds        3    Кластер 3                   immunology plates   \n",
       "214  worlds        3    Кластер 3                     holdings herbal   \n",
       "215  worlds        3    Кластер 3                    exchanges castle   \n",
       "\n",
       "             x          y  count    color  \n",
       "0     2.991167   7.106799   1443  #1f77b4  \n",
       "1    10.195602  12.259496    751  #1f77b4  \n",
       "2    10.443533  13.809915    586  #1f77b4  \n",
       "3     6.735260   3.613983    173  #1f77b4  \n",
       "4    10.474474   6.220012   1397  #ff7f0e  \n",
       "..         ...        ...    ...      ...  \n",
       "211  11.723895   4.363994    471  #2ca02c  \n",
       "212   5.593629   0.553368    236  #2ca02c  \n",
       "213   2.407028   7.651527   1653  #d62728  \n",
       "214   3.986508  10.906340   1476  #d62728  \n",
       "215   8.082231   6.587933   1097  #d62728  \n",
       "\n",
       "[216 rows x 8 columns]"
      ]
     },
     "execution_count": 32,
     "metadata": {},
     "output_type": "execute_result"
    }
   ],
   "source": [
    "tz_data = tz_data.reset_index(drop=True)\n",
    "tz_data"
   ]
  },
  {
   "cell_type": "markdown",
   "id": "075af4e3-5710-4d1f-828f-620ae2538784",
   "metadata": {},
   "source": [
    "Входные данные содержали 229 строк. В результате обработки пропусков и дубликатов осталась 221 строка. После обогащения данных и формирования столбца `color` количество строк не изменилось."
   ]
  },
  {
   "cell_type": "markdown",
   "id": "6ec7fb30-b520-45d9-9058-f121b363de67",
   "metadata": {
    "tags": []
   },
   "source": [
    "#### Выгрузка в excel"
   ]
  },
  {
   "cell_type": "markdown",
   "id": "77f7e437-4986-4dc9-895c-0f02e82a37e6",
   "metadata": {},
   "source": [
    "Выходные данные должны быть аккуратно оформлены (заголовки закреплены, включен фильтр)  \n",
    "Формат представления выходных данных: google spreadsheet-таблица."
   ]
  },
  {
   "cell_type": "code",
   "execution_count": 33,
   "id": "74cc8df4-abe5-408c-be17-4f3a3cba7df5",
   "metadata": {},
   "outputs": [],
   "source": [
    "with pd.ExcelWriter(\"output_data.xlsx\") as writer:\n",
    "    tz_data.to_excel(\n",
    "        writer,\n",
    "        sheet_name='output', \n",
    "        index=False\n",
    "    )\n",
    "    sheet = writer.sheets['output']\n",
    "    sheet.autofilter('A1:H'+str(tz_data.shape[0]))\n",
    "    sheet.freeze_panes(1, 1)\n",
    "    sheet.set_column('D:D', 35)\n",
    "    sheet.set_column('E:E', 12)\n",
    "    sheet.set_column('F:F', 19)\n"
   ]
  }
 ],
 "metadata": {
  "kernelspec": {
   "display_name": "Python 3",
   "language": "python",
   "name": "python3"
  },
  "language_info": {
   "codemirror_mode": {
    "name": "ipython",
    "version": 3
   },
   "file_extension": ".py",
   "mimetype": "text/x-python",
   "name": "python",
   "nbconvert_exporter": "python",
   "pygments_lexer": "ipython3",
   "version": "3.8.8"
  }
 },
 "nbformat": 4,
 "nbformat_minor": 5
}
